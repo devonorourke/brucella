{
 "cells": [
  {
   "cell_type": "markdown",
   "metadata": {},
   "source": [
    "# Overview: Brucella_australia project\n",
    "\n",
    "We're interested in building a phylogeny from a collection of reads that were sent from two separeate groups: one group from Germany, and another group from Australia.  \n",
    "\n",
    "Whenever the Foster lab receives samples, whatever naming convention was provided by the sender is then modified by our lab - we label things numerically, thus the following SampleIDs are assigned by our lab. These may be labeled as something else by the sender.  \n",
    "\n",
    "\n",
    "We received DNA from these two labs and labeled thems as follows. Our list includes:    \n",
    "\n",
    "> __From Germany__  \n",
    "_Golfer Scholz and Julia Reihm Germany_  \n",
    "* Sample0436 - Sample 0448  \n",
    "\n",
    ">__From Australia__  \n",
    "_Pat Blackall_  \n",
    "* Sample0449 - Sample0461\n"
   ]
  },
  {
   "cell_type": "markdown",
   "metadata": {},
   "source": [
    "# Library prep and notes about samples\n",
    "\n",
    "All DNA samples listed above were subject to the same library prep methods, however these preps were performed on separate days by two individuals (Daphne Welker and Devon O'Rourke). \n",
    "\n",
    "We followed previously [published methods] [link]. Samples were sequenced at the Hubbard Genome Center at the University of New Hampshire on an Illumina HiSeq2500. 250 bp PE sequencing was performed.  \n",
    "[link]:http://journals.plos.org/plosone/article?id=10.1371%2Fjournal.pone.0128036\n",
    "\n",
    "Sample0461 failed to produce any library, while Sample0453 and Sample0454 were rerun in a separate sequencing reaction due to low yields from the first run.  Sample0453 was (for an unknown reason) sequenced twice on that second run, with one sample being sequence on each of the two Illumina lanes. Initial analyses were conducted (described below) on both samples, named Sample0453L001 and Sample0453L002 to distinguish between the two lanes. Subsequent analyses confirmed that those two libraries were indeed from the same sample, and Sample0453L001 was used in final phylogenic anlayses.  \n"
   ]
  },
  {
   "cell_type": "markdown",
   "metadata": {},
   "source": [
    "# Preliminary sequencing analyses\n",
    "## Sample statistics from the genome center\n",
    "Sample statistics are available for both the [initial] [link2] and [resequencing] [link3] runs. Note that samples 0453, 0454, and 0461 were discared from initial run for low coverage.  \n",
    "[link2]:http://cobb.unh.edu/150424_MTB_Bsuis_DemuxStats.html\n",
    "[link3] :\n",
    "\n",
    "## FastQC analyses\n",
    "FastQC was run on raw data for two samples and confirmed high quality yeild as suggeted by the above sample statistics: per base sequence quality remained high throughout read position and per sequence quality scores remained skewed well above a Phred of 30. Repeat nucleotides were focues only at the first 15 bp of the read, indicative of the need for adapter trimming (performed in our bioinforamtic analyses downstream). "
   ]
  },
  {
   "cell_type": "markdown",
   "metadata": {},
   "source": [
    "### minor note on transferring files:  \n",
    "\n",
    "File existed preliminarily on the Hubbard \"cobb\" server, and were moved to our local \"pseudomonas\" server for initial bioinformatic work. These products were then moved to another server, \"inquiry\"for tree building. In each case, the program 'rsync' was used to copy files. See the [manual] [link4] for more information. The basic syntax for this is as follows:\n",
    "[link4]:http://linuxcommand.org/man_pages/rsync1.html "
   ]
  },
  {
   "cell_type": "raw",
   "metadata": {},
   "source": [
    "#assume you are working in the local directory where you want to transfer files to\n",
    "\n",
    "rsync <path/to/directory/to/copy/from> <path/to/directory/to/copy/into>"
   ]
  },
  {
   "cell_type": "markdown",
   "metadata": {},
   "source": [
    "# NASP - alignment, variant calling, and SNP Matrix creation\n",
    "\n",
    "The first major portion of our bioinformatic pipeline consists of a suite of tools implemented through [NASP] [link5]. The suite of tools called in a full workflow consist of three major processes:  \n",
    "\n",
    "> - aligning reads to a reference - by default we use BWA  \n",
    "> - identifying SNPs - by default with GATK  \n",
    "> - creating a SNP matrix that can be used to compute branch lengths with external phylogeny-building software  \n",
    "\n",
    "[link5]:http://tgennorth.github.io/NASP/index.html\n"
   ]
  },
  {
   "cell_type": "markdown",
   "metadata": {},
   "source": [
    "## NASP beginnings - using the whole toolbox\n",
    "\n",
    "Initial analyses utilized the entire suite of options in the NASP pipeline:  \n",
    "\n",
    "> - a reference fasta was provided (must end in '.fasta')\n",
    "> - duplicate regions were checked and skipped for SNPs for such regions\n",
    "> - no system manager was used (Torgue or PBS weren't installed on 'pseudomonas')\n",
    "> - exteranl genomes were included (all genomes must end in '.fasta')\n",
    "> - read files were included (may be compressed in '.fastq.gz' format)\n",
    "> - no pre-aligned SAM/BAM files were included\n",
    "> - no pre-called VCF files were included\n",
    "> - no low-quality positions failing coverage (or masked) are included in master_matrix file\n",
    "> - minimum coverage threshold = 10\n",
    "> - minimum acceptable proportion of reads matching call made by SNP caller = 0.9 (90%)\n",
    "\n",
    "The program was executed in a tmux window and command prompts were entered with the appropriate paths to reference genomes (reference fasta), assemblies (external genomes), and sequencing samples (read files).  \n"
   ]
  },
  {
   "cell_type": "markdown",
   "metadata": {},
   "source": [
    "## First NASP run\n",
    "\n",
    "### NASP Input\n",
    "\n",
    "The initial analysis conducted included all read files and broad representative set of external assemblies.  \n",
    "\n",
    "The initial reference - **B. suis ATCC 23445** - was selected because we knew apriori that some of these samples were derived from a B. suis isolate.  \n",
    "\n",
    "External references (assemblies) were used to represent a phylogenetically diverse suite of Brucellae. These included:  \n",
    "    * Brucella_melitensis_bv_2_str_639\n",
    "    * Brucella_melitensis_biovar_abortus_2308\n",
    "    * Brucella_neotomae_5K33\n",
    "    * Brucella_pinnipedialis_B294\n",
    "    * Brucella_ceti_B194\n",
    "    * Brucella_canis_ATCC_23365\n",
    "    * Brucella_microti_CCM_4915\n",
    "    * Brucella_sp_NF_2653\n",
    "    * Brucella_sp_8313\n",
    "    * Brucella_sp_BO2\n",
    "    * Brucella_sp_BO1\n",
    "    * Ochrobactrum_anthropi_ATCC_49188  \n",
    "\n",
    "Samples 0436 - 0460 were included in this first run. "
   ]
  },
  {
   "cell_type": "markdown",
   "metadata": {},
   "source": [
    "### NASP Output\n",
    "\n",
    "While there are many output files created throughout the pipeline (aligned .bam files, indel-called .vcf files, nucmer-aligned delta files, 1-1 position alignment frankenfastas... and more!), the key outputs of a successful run include two groups of two files that you'll want to delve into initially:  \n",
    "\n",
    "> - The \"sample_stats.tsv\" and \"general_stats.tsv\" files:  \n",
    "> - These include information about the percent of genomes aligned among your samples, the number of SNPs, and much more. This is a good quick check to determine how successful the read mapping was, and to what extent of those reads may be informative in terms of SNPs.  \n",
    "\n",
    "Our initial run suggested that there was a clear split among the majority of the German and Australian samples. All of the German samples were mapping a far higher percentage to the reference than most Australian samples. This suggested that perhaps these Australian samples were not as related to the reference genome as the German ones. In addition, samples __0452, 0455, and 0457__ had a paltry mapping percentage, likely indicating that these were not actually Brucella samples. To confirm this, the first 100 reads of each sample were blasted through NCBI's 'nr' database. The output suggested that all of these samples are likely from some Acinetobacter species(s). Jeff Foster suggested that it may have been an error on the part of the German lab sending the wrong samples. These three samples were not used in subsequent analyses in future NASP runs.  \n",
    "\n",
    "Because those three samples had such low percentage of reads mapped, there was no reason to continue with this initial analysis. The second set of files useful in determining the evolutionary relationships - that is, useful for building trees - include two files:\n",
    "\n",
    "> * bestsnp.fasta\n",
    "> * master.tsv  \n",
    "\n",
    "However, these files require a relatively high proportion of reads to map across all samples. Because those three samples had so few reads mapped, the resulting \"bestsnp.fasta\" file was of no use in building the tree with this initial run. __Therefore, we discarded those three samples (0452, 0455, and 0457) and reran the entire pipeline as described above without those three samples. The following output and analysis excludes those samples__:  \n",
    "\n",
    "The output files from the resulting NASP run were transferred to another server \"inquiry.unh.edu\" to make estimates of evolutionary relatedness using a maximum likelihood approach."
   ]
  },
  {
   "cell_type": "markdown",
   "metadata": {},
   "source": [
    "### RAxML Input\n",
    "The Randomized Accelerated Maximum Likelihood ([RAxML] [link6]) program used here is not the only option to build trees, but it certainly a fast one. We use RAxML for all initial analyses following the NASP pipeline as it provides quick access to information to build trees typically within less than an hour. See [this site] [link7] for a gentle introduction explaining what a few of these commands listed below are doing.  \n",
    "\n",
    "However, before you can run RAxML there's a weird quirk due to the formatting by NASP's \"bestsnp.fasta\" file that first needs to get fixed. Essentially RAxML doesn't like the headers in the .fasta file to contain the \"::GATK...etc\" text that is output from NASP. In addition, the reference is just labeled \"reference\" but we're going to attach a bit more information to that subject. To do this I created a file called \"replace.sed\" with the following info:\n",
    "\n",
    "[link6]:http://sco.h-its.org/exelixis/web/software/raxml/\n",
    "[link7]:http://evomics.org/learning/phylogenetics/raxml/"
   ]
  },
  {
   "cell_type": "raw",
   "metadata": {},
   "source": [
    "s/Reference/Bsuis23445_ref/g\n",
    "s/Brucella-suis-0436_S6_L001::BWA-mem,GATK/B_unknown_sample0436/g \n",
    "s/Brucella-suis-0437_S7_L001::BWA-mem,GATK/B_unknown_sample0437/g\n",
    "s/Brucella-suis-0438_S8_L001::BWA-mem,GATK/B_unknown_sample0438/g \n",
    "s/Brucella-suis-0439_S9_L001::BWA-mem,GATK/B_unknown_sample0439/g\n",
    "s/Brucella-suis-0440_S10_L001::BWA-mem,GATK/B_unknown_sample0440/g"
   ]
  },
  {
   "cell_type": "markdown",
   "metadata": {},
   "source": [
    "Notice above that we're just replacing the headers with slightly renamed versions of the same thing. Next up is to run the following command to substitute necessary headers:"
   ]
  },
  {
   "cell_type": "raw",
   "metadata": {},
   "source": [
    "sed -f replace.sed < bestsnp.fasta > renamedsnp.fasta"
   ]
  },
  {
   "cell_type": "markdown",
   "metadata": {},
   "source": [
    "Once that file is renamed, there are two options to running RAxML:\n",
    "\n",
    "- Version_A is much faster but includes much less information (it doesn't include the detailed 'master.tsv' file at all)\n",
    "- Version_B is slower but includes much more information (it includes both the \"bestsnp.fasta\" and the \"master.tsv\" file.  \n",
    "\n",
    "__Version_A commands used include:__  \n",
    "[-s] input fasta  \n",
    "[-n] output filename  \n",
    "[-m] substitution model  \n",
    "[-f a] specifies a certain algorithm to run (in this case, this runs conducts a rapid bootstrap analysis)   \n",
    "[-x] random number seed to initiate heuristic search. just know that if you enter the same number, you get the same ouput every time  \n",
    "[-N autoMRE] number of replicates: we're letting RAxML decide with this specific 'autoMRE' option  \n",
    "[-p] parsiomony inference: what you need to start building a tree  \n"
   ]
  },
  {
   "cell_type": "raw",
   "metadata": {},
   "source": [
    "#To run Version_A\n",
    "raxmlHPC -s brucella_australia.fasta -n raxml_brucella.out -m GTRCAT -f a -x 123 -N autoMRE -p 456"
   ]
  },
  {
   "cell_type": "markdown",
   "metadata": {},
   "source": [
    "__Version_B commands__\n",
    "Kevin Drees developed a custom perl script to include the renamed \"bestsnp.fasta\" and \"master.tsv\" files while running custom RAxML settings. Ensure that you are running Python 3 and have loaded mpich3 (see notes on loading modules in \"inquiry\" server in script text below).  \n",
    "\n",
    "To run this script:"
   ]
  },
  {
   "cell_type": "raw",
   "metadata": {},
   "source": [
    "#load python module to get Python3 instead of Python2\n",
    "module load python/3.5\n",
    "\n",
    "#load MPI for RAxML\n",
    "m load mpich3\n",
    "\n",
    "#run RAxML script\n",
    "/home/dorourke/bin/run_raxml-0.4.pl bestsnps.fasta master.tsv -b raxmlHPC-MPI -T 0 -q default"
   ]
  },
  {
   "cell_type": "markdown",
   "metadata": {},
   "source": [
    "### RAxML output and processing:\n",
    "\n",
    "RAxML will create a series of output files. Only a single file is necessary to building a phylogeny in a tree-viewer program: it's the one listed as \"__...bipartitions.nameoffasta__\". Files were transferred from \"inquiry\" and on to a local machine.  \n",
    "\n",
    "Next, install [FigTree] [link7] or other tree-viewer. Note that if you're going to install FigTree, you'll need to rename the file extension from RAxML from a '.out' file to a ',tre' extension.\n",
    "\n",
    "#### First run output insights:\n",
    "\n",
    "The resulting tree topology confirmed a few expectations:  \n",
    "\n",
    "1. The German samples provided a broad representation of the variouis B. suis biovars. However, these samples were sent to represent such a (relatively) narrow clade, our initially broad external reference list did not allow further discrimination among the B. suis biovars and our samples.\n",
    "\n",
    "2. The Australian samples generally clustered to the two rodent Brucella representatives which we would have guessed given that they were extracted from rodent hosts. There was a single sample, __0450__ which did not cluster to either of those two major clades, but this was also expected as it was extracted from a pig host; sure enough, that sample clustered to a B. suis clade.  \n",
    "\n",
    "To better descriminate among the existing samples, further NASP pipelines were run to better understand:  \n",
    "\n",
    "1. An almost identical run to what was describe above, but removing the outgroup of \"Ochrobactrum\" in our external references. Instead, we'll intend on rooting our tree with the most distantly related Brucella among our samples: B. sp B01 and B. sp B02.  \n",
    "\n",
    "2. The relationship of the German and one australian B. suis - associated samples. Specifically samples __0436 - 0440, and 0450__.  \n",
    "\n",
    "3. The relationship of the Australian samples mapping to the rodent-associated Brucella.  \n",
    "\n",
    "These analyses are described below.\n",
    "[link7]:http://tree.bio.ed.ac.uk/software/figtree/"
   ]
  },
  {
   "cell_type": "markdown",
   "metadata": {},
   "source": [
    "## Refined NASP run\n",
    "\n",
    "While the tree topology will be improved in subsequent analyses (see below) for the distinct clades in which our species are clustering, a first attempt at improving branch lengths of the existing tree is done by increasing the number of common loci between all of our samples and our references. The inclusing of Ochrobactrum reduces the likelihood of common loci because it so much more diverged to all other genomes in our analysis (reads and references alike); therefore by its removal we can improve the likelihood that we'll find more SNPs in our output.  \n",
    "\n",
    "Because we're running the pipeline using the same B. suis reference (B. suis ATCC 23445), the process can begin by using the .vcf files produced in the previous pipeline instead of rerunning BWA and GATK to create those files. We rerun the pipeline while exlcuding that one single Ochrobactrum genome in our external references list, while keeping all other parameters the same. The resulting 'bestsnp.fasta' and 'master.tsv' files are used in RAxML and a tree is produced.  \n",
    "\n",
    "By rooting the tree with the two B. sp B01 and B02 genomes, we find that the branch lengths are reasonably improved among the B. suis clade, while the two rodent-associated Brucella clades are not well discriminated. The following conclusions were reached:  \n",
    "\n",
    "1. Our overall tree topology did not change, confirming that the removal of Ochrobactrum was not going to influence our inferences of evolutionary relationships (nor should it). Specifically, the suis-associated samples all continue to cluster in the groups related to B. suis.  \n",
    "\n",
    "2. Sample 0440 is not clearly associated with one specific subclade among the B. suis clade. To improve the tree topology among those samples a B. suis ONLY set of external reference needs to be run (see below) to improve the relationships among samples and known Brucella suis (and canis) genomes.  \n",
    "\n",
    "3. All the Australian samples associated with rodent hosts show limited divergence from one another. It is not possible to determien if these are clonal or if meaningful differences exist with such a broad set of Brucella genomes. A series of trees using exclusively rodent-associated Brucella are performed to improve the topology of this clade (see below)."
   ]
  },
  {
   "cell_type": "markdown",
   "metadata": {},
   "source": [
    "## Targeted B. suis analyses\n",
    "\n",
    "### Using .vcf as input rather than reads\n",
    "As explained above, this analysis targeted the suite of samples that associated with B. suis and B. canis references. These samples were: __0436, 0437, 0438, 0439, 0440, and 0450__.  NASP was run once more, however because we are use the same reference sample (B. suis ATCC 23445), the .vcf files were used directly within the pipeline rather than rerunning BWA and GATK from the beginning. The following inputs were utilized:  \n",
    "\n",
    "> - reference genome = B. suis ATCC 23445\n",
    "> - external references include all Brucella suis and Brucella canis (n = 55) species avaiable on our servers\n",
    "> - input are the .vcf files from the first NASP run\n",
    "\n",
    "To improve the resolution of our tree topology additional external references were added to the \"external references\" component of the pipeline. All references available in our /leo database on the \"pinky\" server were included. The output of this pipeline was again a \"bestsnp.fasta\" and \"master.tsv\" file that could be analyzed using RAxML once more, with the output of that pipeline being used to create a tree.\n",
    "\n",
    "### Tree analysis\n",
    "The resulting tree included clarified the association of our samples with their specific B. suis biovars.  \n",
    "\n",
    "Of note:  \n",
    "\n",
    "1. Sample 0440 clustered to the only biovar5 representative, B. suis bv5 str 513.\n",
    "2. Samples 0438 and 0450 clustered to the biovar 1 clade (note that 0450 was from Australia)\n",
    "3. Sample 0439 clustered to biovar4? clade (the Canis subtype).\n",
    "4. Samples 0436 and 0437 clustered to the biovar2.  \n",
    "\n",
    "This strengthened our earlier claim from the first run - these samples represent a diverse set of biovars among the B. suis clade (really, they are in every subclade including 'canis'). Perhaps of particular importance is the fact that the Australian sample, derived from a pig liver abscess in North Queensland, and typed as Type 3 \n",
    "****_does this equate to the predicted Biovar it's found in??_*******\n"
   ]
  },
  {
   "cell_type": "markdown",
   "metadata": {},
   "source": [
    "## Targeted B. ?rodent? analyses\n",
    "\n",
    "As described above, a subset of the samples from Australia clustered around the two known Brucella species extracted from rodent hosts: B. suis sp 8313 and B. suis sp. NF 2653 \n",
    "\n",
    "This analysis was conducted in three separate NASP runs:  \n",
    "\n",
    "1. Run1 was performed to create an unrooted tree using a unique reference from earlier runs. As such, the pipeline was started at the beginning\n",
    "\n",
    "### "
   ]
  }
 ],
 "metadata": {
  "kernelspec": {
   "display_name": "Python 3",
   "language": "python",
   "name": "python3"
  },
  "language_info": {
   "codemirror_mode": {
    "name": "ipython",
    "version": 3
   },
   "file_extension": ".py",
   "mimetype": "text/x-python",
   "name": "python",
   "nbconvert_exporter": "python",
   "pygments_lexer": "ipython3",
   "version": "3.5.1"
  }
 },
 "nbformat": 4,
 "nbformat_minor": 0
}
